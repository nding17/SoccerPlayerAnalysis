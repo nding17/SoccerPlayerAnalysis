{
 "cells": [
  {
   "cell_type": "code",
   "execution_count": 61,
   "metadata": {},
   "outputs": [],
   "source": [
    "import requests\n",
    "from bs4 import BeautifulSoup\n",
    "import pandas as pd\n",
    "import numpy as np"
   ]
  },
  {
   "cell_type": "code",
   "execution_count": 91,
   "metadata": {},
   "outputs": [],
   "source": [
    "def scrape_players_value(start, end):\n",
    "    playersList, valuesList, clubsList, nationsList = [],[],[],[]\n",
    "    \n",
    "    user_agent = 'Mozilla/5.0 (X11; Linux x86_64) AppleWebKit/537.36 (KHTML, like Gecko) Chrome/47.0.2526.106 Safari/537.36'\n",
    "    headers = {'User-Agent': user_agent}\n",
    "\n",
    "    for k in range(int(start), int(end)):\n",
    "        for i in range(0,10):\n",
    "            pages = f'https://www.transfermarkt.co.uk/transfers/transferrekorde/statistik/top/saison_id/{k}/plus/1/galerie/0/page/{i+1}'\n",
    "            pageTree = requests.get(pages, headers=headers)\n",
    "            pageSoup = BeautifulSoup(pageTree.content, 'html.parser')\n",
    "\n",
    "            players = pageSoup.find_all(\"a\", {\"class\": \"spielprofil_tooltip\"})\n",
    "            values = pageSoup.find_all(\"td\", {\"class\": \"rechts hauptlink\"})\n",
    "            clubs = pageSoup.find_all('table', {'class': 'inline-table'})\n",
    "            club_names, nation_names = [], []\n",
    "            for i, club in enumerate(clubs):\n",
    "                if (i+1)%3 == 0:\n",
    "                    club_names.append(club.find_all('img', {'class':'tiny_wappen'})[0]['alt'])\n",
    "                    nation_names.append(club.find_all('img', {'class':'flaggenrahmen'})[0]['alt'])\n",
    "\n",
    "            for j in range(0,25):\n",
    "                playersList.append(players[j].text)\n",
    "                valuesList.append(values[j].text)\n",
    "                clubsList.append(club_names[j])\n",
    "                nationsList.append(nation_names[j])\n",
    "                \n",
    "    df = pd.DataFrame({\"Players\":playersList,\n",
    "                       \"Values\":valuesList, \n",
    "                       'Clubs':clubsList, \n",
    "                       'Nations':nationsList})\n",
    "\n",
    "    start_years = np.array([[f'{year}']*250 for year in range(int(start),int(end))]).flatten()\n",
    "    end_years = np.array([[f'{year}']*250 for year in range(int(start)+1,int(end)+1)]).flatten()\n",
    "    df['Start'] = start_years\n",
    "    df['End'] = end_years\n",
    "    \n",
    "    import re\n",
    "    def money(x):\n",
    "        if re.search(pattern, x) is not None:\n",
    "            return float(re.search(pattern, x)[0])\n",
    "        else:\n",
    "            return 0\n",
    "\n",
    "    df['Values'] = df['Values'].apply(lambda x: money(x))\n",
    "    \n",
    "    return df"
   ]
  },
  {
   "cell_type": "code",
   "execution_count": 92,
   "metadata": {},
   "outputs": [],
   "source": [
    "df = scrape_players_value('2005','2018')\n",
    "df.to_csv(\"./values.csv\")"
   ]
  },
  {
   "cell_type": "code",
   "execution_count": null,
   "metadata": {},
   "outputs": [],
   "source": []
  }
 ],
 "metadata": {
  "kernelspec": {
   "display_name": "Python 3",
   "language": "python",
   "name": "python3"
  },
  "language_info": {
   "codemirror_mode": {
    "name": "ipython",
    "version": 3
   },
   "file_extension": ".py",
   "mimetype": "text/x-python",
   "name": "python",
   "nbconvert_exporter": "python",
   "pygments_lexer": "ipython3",
   "version": "3.7.1"
  }
 },
 "nbformat": 4,
 "nbformat_minor": 2
}
